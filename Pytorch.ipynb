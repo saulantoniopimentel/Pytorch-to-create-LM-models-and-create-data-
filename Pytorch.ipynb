{
  "nbformat": 4,
  "nbformat_minor": 0,
  "metadata": {
    "colab": {
      "provenance": []
    },
    "kernelspec": {
      "name": "python3",
      "display_name": "Python 3"
    },
    "language_info": {
      "name": "python"
    }
  },
  "cells": [
    {
      "cell_type": "markdown",
      "source": [
        "## using pytorch to create a LM Model and create data"
      ],
      "metadata": {
        "id": "BCWaoJA_fCZR"
      }
    },
    {
      "cell_type": "code",
      "source": [
        "import torch\n",
        "import torch.nn as nn\n",
        "import torch.optim as optim\n",
        "\n",
        "# 1. Crear datos de ejemplo.\n",
        "# Generamos 100 puntos de datos que siguen una relación y = 2x + 10.\n",
        "# A los datos de \"y\" se les agrega algo de ruido para simular datos reales.\n",
        "x_train = torch.randn(100, 1) * 10\n",
        "y_train = 2 * x_train + 10 + torch.randn(100, 1)\n",
        "\n",
        "# 2. Definir el modelo de la red neuronal.\n",
        "# Usamos nn.Module para crear una clase simple con una capa lineal.\n",
        "class ModeloLineal(nn.Module):\n",
        "    def __init__(self):\n",
        "        super(ModeloLineal, self).__init__()\n",
        "        # Definimos una capa lineal que toma 1 entrada y produce 1 salida.\n",
        "        self.capa_lineal = nn.Linear(1, 1)\n",
        "\n",
        "    def forward(self, x):\n",
        "        return self.capa_lineal(x)\n",
        "\n",
        "# Instanciar el modelo.\n",
        "modelo = ModeloLineal()\n",
        "\n",
        "# 3. Definir la función de pérdida y el optimizador.\n",
        "# La función de pérdida (MSE) mide la diferencia entre las predicciones y los valores reales.\n",
        "funcion_perdida = nn.MSELoss()\n",
        "# El optimizador (Adam) ajusta los pesos del modelo para minimizar la pérdida.\n",
        "optimizador = optim.Adam(modelo.parameters(), lr=0.01)\n",
        "\n",
        "# 4. Bucle de entrenamiento.\n",
        "# Entrenamos el modelo durante 100 épocas.\n",
        "for epoca in range(100):\n",
        "    # a. Propagación hacia adelante: obtener las predicciones del modelo.\n",
        "    predicciones = modelo(x_train)\n",
        "\n",
        "    # b. Calcular la pérdida.\n",
        "    perdida = funcion_perdida(predicciones, y_train)\n",
        "\n",
        "    # c. Propagación hacia atrás y optimización.\n",
        "    optimizador.zero_grad()  # Limpiar los gradientes anteriores.\n",
        "    perdida.backward()       # Calcular los gradientes.\n",
        "    optimizador.step()       # Actualizar los pesos del modelo.\n",
        "\n",
        "    if (epoca + 1) % 10 == 0:\n",
        "        print(f'Época [{epoca+1}/100], Pérdida: {perdida.item():.4f}')\n",
        "\n",
        "# 5. Imprimir los parámetros finales aprendidos.\n",
        "# El modelo debería haber aprendido los valores cercanos a 2 (peso) y 10 (sesgo).\n",
        "print(\"\\nParámetros del modelo aprendidos:\")\n",
        "for nombre, parametro in modelo.named_parameters():\n",
        "    print(f\"'{nombre}': {parametro.item():.4f}\")"
      ],
      "metadata": {
        "colab": {
          "base_uri": "https://localhost:8080/"
        },
        "id": "qNNmxplbfk7x",
        "outputId": "479885ae-fed1-40d0-d419-14c2cb11314c"
      },
      "execution_count": 1,
      "outputs": [
        {
          "output_type": "stream",
          "name": "stdout",
          "text": [
            "Época [10/100], Pérdida: 272.3963\n",
            "Época [20/100], Pérdida: 247.0103\n",
            "Época [30/100], Pérdida: 223.9097\n",
            "Época [40/100], Pérdida: 203.1384\n",
            "Época [50/100], Pérdida: 184.6351\n",
            "Época [60/100], Pérdida: 168.2721\n",
            "Época [70/100], Pérdida: 153.8871\n",
            "Época [80/100], Pérdida: 141.3038\n",
            "Época [90/100], Pérdida: 130.3429\n",
            "Época [100/100], Pérdida: 120.8286\n",
            "\n",
            "Parámetros del modelo aprendidos:\n",
            "'capa_lineal.weight': 1.2363\n",
            "'capa_lineal.bias': 0.5879\n"
          ]
        }
      ]
    }
  ]
}